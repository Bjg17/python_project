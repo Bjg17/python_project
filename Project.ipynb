{
 "cells": [
  {
   "cell_type": "markdown",
   "id": "f30c964b-649c-4ca1-a37f-dc3083d403ba",
   "metadata": {},
   "source": [
    "# Project Title: Credit Card Fraud Detection using Machine Learning"
   ]
  },
  {
   "cell_type": "markdown",
   "id": "4a5e0d8a-c508-4db6-945c-7e77967f89a8",
   "metadata": {},
   "source": [
    "## Purpose of the Project\n",
    "This project aims to develop and evaluate machine learning models capable of detecting fraudulent credit card transactions. This real-world classification problem involves extreme class imbalance, where fraudulent transactions represent a tiny fraction of all data.\n",
    "\n",
    "By solving this, the goal is to:\n",
    "\n",
    "Prevent financial loss by accurately identifying fraudulent activity.\n",
    "\n",
    "Minimize false positives to avoid blocking legitimate customers.\n",
    "\n",
    "Demonstrate practical skills in data preprocessing, resampling (SMOTE), model training, evaluation, and comparison."
   ]
  },
  {
   "cell_type": "markdown",
   "id": "fdc6e435-f8ee-4037-b02b-3a5baa83786a",
   "metadata": {},
   "source": [
    "## Key Objectives\n",
    "Clean and prepare the dataset for machine learning.\n",
    "\n",
    "Handle class imbalance using SMOTE (Synthetic Minority Over-sampling Technique).\n",
    "\n",
    "Apply feature scaling and PCA for dimensionality reduction.\n",
    "\n",
    "Train and evaluate several classifiers:\n",
    "\n",
    "Random Forest\n",
    "\n",
    "Support Vector Machine\n",
    "\n",
    "K-Nearest Neighbors\n",
    "\n",
    "XGBoost\n",
    "\n",
    "Use appropriate evaluation metrics (precision, recall, F1-score) focused on fraud detection performance.\n",
    "\n",
    "Visualize and interpret model outcomes using confusion matrices and performance metrics.\n",
    "\n",
    "Save the trained models using pickle for potential future deployment or reuse."
   ]
  },
  {
   "cell_type": "code",
   "execution_count": null,
   "id": "6d4aa76a-a693-4252-88c9-6f05e41e2d5c",
   "metadata": {},
   "outputs": [],
   "source": [
    "# import sklearn\n",
    "# import imblearn\n",
    "\n",
    "# print(\"scikit-learn version:\", sklearn.__version__)\n",
    "# print(\"imbalanced-learn version:\", imblearn.__version__)\n",
    "\n",
    "#!pip install --upgrade scikit-learn imbalanced-learn\n",
    "# !pip install seaborn\n",
    "# !pip install matplotlib\n",
    "# !pip install xgboost"
   ]
  },
  {
   "cell_type": "code",
   "execution_count": 2,
   "id": "a7ef0a49-8f7e-4148-b07c-0e5100511a22",
   "metadata": {},
   "outputs": [],
   "source": [
    "# Assistant\n",
    "import pandas as pd\n",
    "import numpy as np\n",
    "\n",
    "# Import matplotlib.pyplot first, then seaborn\n",
    "import matplotlib.pyplot as plt\n",
    "import seaborn as sns\n",
    "\n",
    "from imblearn.pipeline import Pipeline as imbpipeline\n",
    "from imblearn.over_sampling import SMOTE\n",
    "\n",
    "from sklearn.pipeline import Pipeline\n",
    "from sklearn.preprocessing import StandardScaler\n",
    "from sklearn.decomposition import PCA\n",
    "from sklearn.model_selection import train_test_split, GridSearchCV\n",
    "from sklearn.metrics import confusion_matrix, ConfusionMatrixDisplay, classification_report, accuracy_score, precision_score, recall_score, f1_score\n",
    "\n",
    "from sklearn.ensemble import RandomForestClassifier\n",
    "from sklearn.neighbors import KNeighborsClassifier\n",
    "from sklearn.svm import SVC\n",
    "from xgboost import XGBClassifier"
   ]
  },
  {
   "cell_type": "markdown",
   "id": "7b6a51cf-3b75-4db9-b905-4c453979d139",
   "metadata": {},
   "source": [
    "## 1. Dataset Overview"
   ]
  },
  {
   "cell_type": "code",
   "execution_count": 3,
   "id": "02198cfe",
   "metadata": {
    "scrolled": true
   },
   "outputs": [
    {
     "data": {
      "text/html": [
       "<div>\n",
       "<style scoped>\n",
       "    .dataframe tbody tr th:only-of-type {\n",
       "        vertical-align: middle;\n",
       "    }\n",
       "\n",
       "    .dataframe tbody tr th {\n",
       "        vertical-align: top;\n",
       "    }\n",
       "\n",
       "    .dataframe thead th {\n",
       "        text-align: right;\n",
       "    }\n",
       "</style>\n",
       "<table border=\"1\" class=\"dataframe\">\n",
       "  <thead>\n",
       "    <tr style=\"text-align: right;\">\n",
       "      <th></th>\n",
       "      <th>Time</th>\n",
       "      <th>V1</th>\n",
       "      <th>V2</th>\n",
       "      <th>V3</th>\n",
       "      <th>V4</th>\n",
       "      <th>V5</th>\n",
       "      <th>V6</th>\n",
       "      <th>V7</th>\n",
       "      <th>V8</th>\n",
       "      <th>V9</th>\n",
       "      <th>V10</th>\n",
       "      <th>V11</th>\n",
       "      <th>V12</th>\n",
       "      <th>V13</th>\n",
       "      <th>V14</th>\n",
       "      <th>V15</th>\n",
       "      <th>V16</th>\n",
       "      <th>V17</th>\n",
       "      <th>V18</th>\n",
       "      <th>V19</th>\n",
       "      <th>V20</th>\n",
       "      <th>V21</th>\n",
       "      <th>V22</th>\n",
       "      <th>V23</th>\n",
       "      <th>V24</th>\n",
       "      <th>V25</th>\n",
       "      <th>V26</th>\n",
       "      <th>V27</th>\n",
       "      <th>V28</th>\n",
       "      <th>Amount</th>\n",
       "      <th>Class</th>\n",
       "    </tr>\n",
       "  </thead>\n",
       "  <tbody>\n",
       "    <tr>\n",
       "      <th>0</th>\n",
       "      <td>0.0</td>\n",
       "      <td>-1.359807</td>\n",
       "      <td>-0.072781</td>\n",
       "      <td>2.536347</td>\n",
       "      <td>1.378155</td>\n",
       "      <td>-0.338321</td>\n",
       "      <td>0.462388</td>\n",
       "      <td>0.239599</td>\n",
       "      <td>0.098698</td>\n",
       "      <td>0.363787</td>\n",
       "      <td>0.090794</td>\n",
       "      <td>-0.551600</td>\n",
       "      <td>-0.617801</td>\n",
       "      <td>-0.991390</td>\n",
       "      <td>-0.311169</td>\n",
       "      <td>1.468177</td>\n",
       "      <td>-0.470401</td>\n",
       "      <td>0.207971</td>\n",
       "      <td>0.025791</td>\n",
       "      <td>0.403993</td>\n",
       "      <td>0.251412</td>\n",
       "      <td>-0.018307</td>\n",
       "      <td>0.277838</td>\n",
       "      <td>-0.110474</td>\n",
       "      <td>0.066928</td>\n",
       "      <td>0.128539</td>\n",
       "      <td>-0.189115</td>\n",
       "      <td>0.133558</td>\n",
       "      <td>-0.021053</td>\n",
       "      <td>149.62</td>\n",
       "      <td>0</td>\n",
       "    </tr>\n",
       "    <tr>\n",
       "      <th>1</th>\n",
       "      <td>0.0</td>\n",
       "      <td>1.191857</td>\n",
       "      <td>0.266151</td>\n",
       "      <td>0.166480</td>\n",
       "      <td>0.448154</td>\n",
       "      <td>0.060018</td>\n",
       "      <td>-0.082361</td>\n",
       "      <td>-0.078803</td>\n",
       "      <td>0.085102</td>\n",
       "      <td>-0.255425</td>\n",
       "      <td>-0.166974</td>\n",
       "      <td>1.612727</td>\n",
       "      <td>1.065235</td>\n",
       "      <td>0.489095</td>\n",
       "      <td>-0.143772</td>\n",
       "      <td>0.635558</td>\n",
       "      <td>0.463917</td>\n",
       "      <td>-0.114805</td>\n",
       "      <td>-0.183361</td>\n",
       "      <td>-0.145783</td>\n",
       "      <td>-0.069083</td>\n",
       "      <td>-0.225775</td>\n",
       "      <td>-0.638672</td>\n",
       "      <td>0.101288</td>\n",
       "      <td>-0.339846</td>\n",
       "      <td>0.167170</td>\n",
       "      <td>0.125895</td>\n",
       "      <td>-0.008983</td>\n",
       "      <td>0.014724</td>\n",
       "      <td>2.69</td>\n",
       "      <td>0</td>\n",
       "    </tr>\n",
       "    <tr>\n",
       "      <th>2</th>\n",
       "      <td>1.0</td>\n",
       "      <td>-1.358354</td>\n",
       "      <td>-1.340163</td>\n",
       "      <td>1.773209</td>\n",
       "      <td>0.379780</td>\n",
       "      <td>-0.503198</td>\n",
       "      <td>1.800499</td>\n",
       "      <td>0.791461</td>\n",
       "      <td>0.247676</td>\n",
       "      <td>-1.514654</td>\n",
       "      <td>0.207643</td>\n",
       "      <td>0.624501</td>\n",
       "      <td>0.066084</td>\n",
       "      <td>0.717293</td>\n",
       "      <td>-0.165946</td>\n",
       "      <td>2.345865</td>\n",
       "      <td>-2.890083</td>\n",
       "      <td>1.109969</td>\n",
       "      <td>-0.121359</td>\n",
       "      <td>-2.261857</td>\n",
       "      <td>0.524980</td>\n",
       "      <td>0.247998</td>\n",
       "      <td>0.771679</td>\n",
       "      <td>0.909412</td>\n",
       "      <td>-0.689281</td>\n",
       "      <td>-0.327642</td>\n",
       "      <td>-0.139097</td>\n",
       "      <td>-0.055353</td>\n",
       "      <td>-0.059752</td>\n",
       "      <td>378.66</td>\n",
       "      <td>0</td>\n",
       "    </tr>\n",
       "    <tr>\n",
       "      <th>3</th>\n",
       "      <td>1.0</td>\n",
       "      <td>-0.966272</td>\n",
       "      <td>-0.185226</td>\n",
       "      <td>1.792993</td>\n",
       "      <td>-0.863291</td>\n",
       "      <td>-0.010309</td>\n",
       "      <td>1.247203</td>\n",
       "      <td>0.237609</td>\n",
       "      <td>0.377436</td>\n",
       "      <td>-1.387024</td>\n",
       "      <td>-0.054952</td>\n",
       "      <td>-0.226487</td>\n",
       "      <td>0.178228</td>\n",
       "      <td>0.507757</td>\n",
       "      <td>-0.287924</td>\n",
       "      <td>-0.631418</td>\n",
       "      <td>-1.059647</td>\n",
       "      <td>-0.684093</td>\n",
       "      <td>1.965775</td>\n",
       "      <td>-1.232622</td>\n",
       "      <td>-0.208038</td>\n",
       "      <td>-0.108300</td>\n",
       "      <td>0.005274</td>\n",
       "      <td>-0.190321</td>\n",
       "      <td>-1.175575</td>\n",
       "      <td>0.647376</td>\n",
       "      <td>-0.221929</td>\n",
       "      <td>0.062723</td>\n",
       "      <td>0.061458</td>\n",
       "      <td>123.50</td>\n",
       "      <td>0</td>\n",
       "    </tr>\n",
       "    <tr>\n",
       "      <th>4</th>\n",
       "      <td>2.0</td>\n",
       "      <td>-1.158233</td>\n",
       "      <td>0.877737</td>\n",
       "      <td>1.548718</td>\n",
       "      <td>0.403034</td>\n",
       "      <td>-0.407193</td>\n",
       "      <td>0.095921</td>\n",
       "      <td>0.592941</td>\n",
       "      <td>-0.270533</td>\n",
       "      <td>0.817739</td>\n",
       "      <td>0.753074</td>\n",
       "      <td>-0.822843</td>\n",
       "      <td>0.538196</td>\n",
       "      <td>1.345852</td>\n",
       "      <td>-1.119670</td>\n",
       "      <td>0.175121</td>\n",
       "      <td>-0.451449</td>\n",
       "      <td>-0.237033</td>\n",
       "      <td>-0.038195</td>\n",
       "      <td>0.803487</td>\n",
       "      <td>0.408542</td>\n",
       "      <td>-0.009431</td>\n",
       "      <td>0.798278</td>\n",
       "      <td>-0.137458</td>\n",
       "      <td>0.141267</td>\n",
       "      <td>-0.206010</td>\n",
       "      <td>0.502292</td>\n",
       "      <td>0.219422</td>\n",
       "      <td>0.215153</td>\n",
       "      <td>69.99</td>\n",
       "      <td>0</td>\n",
       "    </tr>\n",
       "  </tbody>\n",
       "</table>\n",
       "</div>"
      ],
      "text/plain": [
       "   Time        V1        V2        V3        V4        V5        V6        V7  \\\n",
       "0   0.0 -1.359807 -0.072781  2.536347  1.378155 -0.338321  0.462388  0.239599   \n",
       "1   0.0  1.191857  0.266151  0.166480  0.448154  0.060018 -0.082361 -0.078803   \n",
       "2   1.0 -1.358354 -1.340163  1.773209  0.379780 -0.503198  1.800499  0.791461   \n",
       "3   1.0 -0.966272 -0.185226  1.792993 -0.863291 -0.010309  1.247203  0.237609   \n",
       "4   2.0 -1.158233  0.877737  1.548718  0.403034 -0.407193  0.095921  0.592941   \n",
       "\n",
       "         V8        V9       V10       V11       V12       V13       V14  \\\n",
       "0  0.098698  0.363787  0.090794 -0.551600 -0.617801 -0.991390 -0.311169   \n",
       "1  0.085102 -0.255425 -0.166974  1.612727  1.065235  0.489095 -0.143772   \n",
       "2  0.247676 -1.514654  0.207643  0.624501  0.066084  0.717293 -0.165946   \n",
       "3  0.377436 -1.387024 -0.054952 -0.226487  0.178228  0.507757 -0.287924   \n",
       "4 -0.270533  0.817739  0.753074 -0.822843  0.538196  1.345852 -1.119670   \n",
       "\n",
       "        V15       V16       V17       V18       V19       V20       V21  \\\n",
       "0  1.468177 -0.470401  0.207971  0.025791  0.403993  0.251412 -0.018307   \n",
       "1  0.635558  0.463917 -0.114805 -0.183361 -0.145783 -0.069083 -0.225775   \n",
       "2  2.345865 -2.890083  1.109969 -0.121359 -2.261857  0.524980  0.247998   \n",
       "3 -0.631418 -1.059647 -0.684093  1.965775 -1.232622 -0.208038 -0.108300   \n",
       "4  0.175121 -0.451449 -0.237033 -0.038195  0.803487  0.408542 -0.009431   \n",
       "\n",
       "        V22       V23       V24       V25       V26       V27       V28  \\\n",
       "0  0.277838 -0.110474  0.066928  0.128539 -0.189115  0.133558 -0.021053   \n",
       "1 -0.638672  0.101288 -0.339846  0.167170  0.125895 -0.008983  0.014724   \n",
       "2  0.771679  0.909412 -0.689281 -0.327642 -0.139097 -0.055353 -0.059752   \n",
       "3  0.005274 -0.190321 -1.175575  0.647376 -0.221929  0.062723  0.061458   \n",
       "4  0.798278 -0.137458  0.141267 -0.206010  0.502292  0.219422  0.215153   \n",
       "\n",
       "   Amount  Class  \n",
       "0  149.62      0  \n",
       "1    2.69      0  \n",
       "2  378.66      0  \n",
       "3  123.50      0  \n",
       "4   69.99      0  "
      ]
     },
     "execution_count": 3,
     "metadata": {},
     "output_type": "execute_result"
    }
   ],
   "source": [
    "data = pd.read_csv(\"C:/Users/User/Downloads/creditcard.csv\")\n",
    "pd.set_option('display.max_columns', None)\n",
    "data.head()"
   ]
  },
  {
   "cell_type": "markdown",
   "id": "653b3617-436d-4ba7-8b97-2b398183da90",
   "metadata": {},
   "source": [
    "## 2. Exploratory Data Analysis"
   ]
  },
  {
   "cell_type": "code",
   "execution_count": 4,
   "id": "9a2f416a",
   "metadata": {},
   "outputs": [
    {
     "data": {
      "text/plain": [
       "(284807, 31)"
      ]
     },
     "execution_count": 4,
     "metadata": {},
     "output_type": "execute_result"
    }
   ],
   "source": [
    "data.shape"
   ]
  },
  {
   "cell_type": "code",
   "execution_count": 5,
   "id": "b914d688",
   "metadata": {},
   "outputs": [
    {
     "data": {
      "text/html": [
       "<div>\n",
       "<style scoped>\n",
       "    .dataframe tbody tr th:only-of-type {\n",
       "        vertical-align: middle;\n",
       "    }\n",
       "\n",
       "    .dataframe tbody tr th {\n",
       "        vertical-align: top;\n",
       "    }\n",
       "\n",
       "    .dataframe thead th {\n",
       "        text-align: right;\n",
       "    }\n",
       "</style>\n",
       "<table border=\"1\" class=\"dataframe\">\n",
       "  <thead>\n",
       "    <tr style=\"text-align: right;\">\n",
       "      <th></th>\n",
       "      <th>Time</th>\n",
       "      <th>V1</th>\n",
       "      <th>V2</th>\n",
       "      <th>V3</th>\n",
       "      <th>V4</th>\n",
       "      <th>V5</th>\n",
       "      <th>V6</th>\n",
       "      <th>V7</th>\n",
       "      <th>V8</th>\n",
       "      <th>V9</th>\n",
       "      <th>V10</th>\n",
       "      <th>V11</th>\n",
       "      <th>V12</th>\n",
       "      <th>V13</th>\n",
       "      <th>V14</th>\n",
       "      <th>V15</th>\n",
       "      <th>V16</th>\n",
       "      <th>V17</th>\n",
       "      <th>V18</th>\n",
       "      <th>V19</th>\n",
       "      <th>V20</th>\n",
       "      <th>V21</th>\n",
       "      <th>V22</th>\n",
       "      <th>V23</th>\n",
       "      <th>V24</th>\n",
       "      <th>V25</th>\n",
       "      <th>V26</th>\n",
       "      <th>V27</th>\n",
       "      <th>V28</th>\n",
       "      <th>Amount</th>\n",
       "      <th>Class</th>\n",
       "    </tr>\n",
       "  </thead>\n",
       "  <tbody>\n",
       "    <tr>\n",
       "      <th>count</th>\n",
       "      <td>284807.000000</td>\n",
       "      <td>2.848070e+05</td>\n",
       "      <td>2.848070e+05</td>\n",
       "      <td>2.848070e+05</td>\n",
       "      <td>2.848070e+05</td>\n",
       "      <td>2.848070e+05</td>\n",
       "      <td>2.848070e+05</td>\n",
       "      <td>2.848070e+05</td>\n",
       "      <td>2.848070e+05</td>\n",
       "      <td>2.848070e+05</td>\n",
       "      <td>2.848070e+05</td>\n",
       "      <td>2.848070e+05</td>\n",
       "      <td>2.848070e+05</td>\n",
       "      <td>2.848070e+05</td>\n",
       "      <td>2.848070e+05</td>\n",
       "      <td>2.848070e+05</td>\n",
       "      <td>2.848070e+05</td>\n",
       "      <td>2.848070e+05</td>\n",
       "      <td>2.848070e+05</td>\n",
       "      <td>2.848070e+05</td>\n",
       "      <td>2.848070e+05</td>\n",
       "      <td>2.848070e+05</td>\n",
       "      <td>2.848070e+05</td>\n",
       "      <td>2.848070e+05</td>\n",
       "      <td>2.848070e+05</td>\n",
       "      <td>2.848070e+05</td>\n",
       "      <td>2.848070e+05</td>\n",
       "      <td>2.848070e+05</td>\n",
       "      <td>2.848070e+05</td>\n",
       "      <td>284807.000000</td>\n",
       "      <td>284807.000000</td>\n",
       "    </tr>\n",
       "    <tr>\n",
       "      <th>mean</th>\n",
       "      <td>94813.859575</td>\n",
       "      <td>1.168375e-15</td>\n",
       "      <td>3.416908e-16</td>\n",
       "      <td>-1.379537e-15</td>\n",
       "      <td>2.074095e-15</td>\n",
       "      <td>9.604066e-16</td>\n",
       "      <td>1.487313e-15</td>\n",
       "      <td>-5.556467e-16</td>\n",
       "      <td>1.213481e-16</td>\n",
       "      <td>-2.406331e-15</td>\n",
       "      <td>2.239053e-15</td>\n",
       "      <td>1.673327e-15</td>\n",
       "      <td>-1.247012e-15</td>\n",
       "      <td>8.190001e-16</td>\n",
       "      <td>1.207294e-15</td>\n",
       "      <td>4.887456e-15</td>\n",
       "      <td>1.437716e-15</td>\n",
       "      <td>-3.772171e-16</td>\n",
       "      <td>9.564149e-16</td>\n",
       "      <td>1.039917e-15</td>\n",
       "      <td>6.406204e-16</td>\n",
       "      <td>1.654067e-16</td>\n",
       "      <td>-3.568593e-16</td>\n",
       "      <td>2.578648e-16</td>\n",
       "      <td>4.473266e-15</td>\n",
       "      <td>5.340915e-16</td>\n",
       "      <td>1.683437e-15</td>\n",
       "      <td>-3.660091e-16</td>\n",
       "      <td>-1.227390e-16</td>\n",
       "      <td>88.349619</td>\n",
       "      <td>0.001727</td>\n",
       "    </tr>\n",
       "    <tr>\n",
       "      <th>std</th>\n",
       "      <td>47488.145955</td>\n",
       "      <td>1.958696e+00</td>\n",
       "      <td>1.651309e+00</td>\n",
       "      <td>1.516255e+00</td>\n",
       "      <td>1.415869e+00</td>\n",
       "      <td>1.380247e+00</td>\n",
       "      <td>1.332271e+00</td>\n",
       "      <td>1.237094e+00</td>\n",
       "      <td>1.194353e+00</td>\n",
       "      <td>1.098632e+00</td>\n",
       "      <td>1.088850e+00</td>\n",
       "      <td>1.020713e+00</td>\n",
       "      <td>9.992014e-01</td>\n",
       "      <td>9.952742e-01</td>\n",
       "      <td>9.585956e-01</td>\n",
       "      <td>9.153160e-01</td>\n",
       "      <td>8.762529e-01</td>\n",
       "      <td>8.493371e-01</td>\n",
       "      <td>8.381762e-01</td>\n",
       "      <td>8.140405e-01</td>\n",
       "      <td>7.709250e-01</td>\n",
       "      <td>7.345240e-01</td>\n",
       "      <td>7.257016e-01</td>\n",
       "      <td>6.244603e-01</td>\n",
       "      <td>6.056471e-01</td>\n",
       "      <td>5.212781e-01</td>\n",
       "      <td>4.822270e-01</td>\n",
       "      <td>4.036325e-01</td>\n",
       "      <td>3.300833e-01</td>\n",
       "      <td>250.120109</td>\n",
       "      <td>0.041527</td>\n",
       "    </tr>\n",
       "    <tr>\n",
       "      <th>min</th>\n",
       "      <td>0.000000</td>\n",
       "      <td>-5.640751e+01</td>\n",
       "      <td>-7.271573e+01</td>\n",
       "      <td>-4.832559e+01</td>\n",
       "      <td>-5.683171e+00</td>\n",
       "      <td>-1.137433e+02</td>\n",
       "      <td>-2.616051e+01</td>\n",
       "      <td>-4.355724e+01</td>\n",
       "      <td>-7.321672e+01</td>\n",
       "      <td>-1.343407e+01</td>\n",
       "      <td>-2.458826e+01</td>\n",
       "      <td>-4.797473e+00</td>\n",
       "      <td>-1.868371e+01</td>\n",
       "      <td>-5.791881e+00</td>\n",
       "      <td>-1.921433e+01</td>\n",
       "      <td>-4.498945e+00</td>\n",
       "      <td>-1.412985e+01</td>\n",
       "      <td>-2.516280e+01</td>\n",
       "      <td>-9.498746e+00</td>\n",
       "      <td>-7.213527e+00</td>\n",
       "      <td>-5.449772e+01</td>\n",
       "      <td>-3.483038e+01</td>\n",
       "      <td>-1.093314e+01</td>\n",
       "      <td>-4.480774e+01</td>\n",
       "      <td>-2.836627e+00</td>\n",
       "      <td>-1.029540e+01</td>\n",
       "      <td>-2.604551e+00</td>\n",
       "      <td>-2.256568e+01</td>\n",
       "      <td>-1.543008e+01</td>\n",
       "      <td>0.000000</td>\n",
       "      <td>0.000000</td>\n",
       "    </tr>\n",
       "    <tr>\n",
       "      <th>25%</th>\n",
       "      <td>54201.500000</td>\n",
       "      <td>-9.203734e-01</td>\n",
       "      <td>-5.985499e-01</td>\n",
       "      <td>-8.903648e-01</td>\n",
       "      <td>-8.486401e-01</td>\n",
       "      <td>-6.915971e-01</td>\n",
       "      <td>-7.682956e-01</td>\n",
       "      <td>-5.540759e-01</td>\n",
       "      <td>-2.086297e-01</td>\n",
       "      <td>-6.430976e-01</td>\n",
       "      <td>-5.354257e-01</td>\n",
       "      <td>-7.624942e-01</td>\n",
       "      <td>-4.055715e-01</td>\n",
       "      <td>-6.485393e-01</td>\n",
       "      <td>-4.255740e-01</td>\n",
       "      <td>-5.828843e-01</td>\n",
       "      <td>-4.680368e-01</td>\n",
       "      <td>-4.837483e-01</td>\n",
       "      <td>-4.988498e-01</td>\n",
       "      <td>-4.562989e-01</td>\n",
       "      <td>-2.117214e-01</td>\n",
       "      <td>-2.283949e-01</td>\n",
       "      <td>-5.423504e-01</td>\n",
       "      <td>-1.618463e-01</td>\n",
       "      <td>-3.545861e-01</td>\n",
       "      <td>-3.171451e-01</td>\n",
       "      <td>-3.269839e-01</td>\n",
       "      <td>-7.083953e-02</td>\n",
       "      <td>-5.295979e-02</td>\n",
       "      <td>5.600000</td>\n",
       "      <td>0.000000</td>\n",
       "    </tr>\n",
       "    <tr>\n",
       "      <th>50%</th>\n",
       "      <td>84692.000000</td>\n",
       "      <td>1.810880e-02</td>\n",
       "      <td>6.548556e-02</td>\n",
       "      <td>1.798463e-01</td>\n",
       "      <td>-1.984653e-02</td>\n",
       "      <td>-5.433583e-02</td>\n",
       "      <td>-2.741871e-01</td>\n",
       "      <td>4.010308e-02</td>\n",
       "      <td>2.235804e-02</td>\n",
       "      <td>-5.142873e-02</td>\n",
       "      <td>-9.291738e-02</td>\n",
       "      <td>-3.275735e-02</td>\n",
       "      <td>1.400326e-01</td>\n",
       "      <td>-1.356806e-02</td>\n",
       "      <td>5.060132e-02</td>\n",
       "      <td>4.807155e-02</td>\n",
       "      <td>6.641332e-02</td>\n",
       "      <td>-6.567575e-02</td>\n",
       "      <td>-3.636312e-03</td>\n",
       "      <td>3.734823e-03</td>\n",
       "      <td>-6.248109e-02</td>\n",
       "      <td>-2.945017e-02</td>\n",
       "      <td>6.781943e-03</td>\n",
       "      <td>-1.119293e-02</td>\n",
       "      <td>4.097606e-02</td>\n",
       "      <td>1.659350e-02</td>\n",
       "      <td>-5.213911e-02</td>\n",
       "      <td>1.342146e-03</td>\n",
       "      <td>1.124383e-02</td>\n",
       "      <td>22.000000</td>\n",
       "      <td>0.000000</td>\n",
       "    </tr>\n",
       "    <tr>\n",
       "      <th>75%</th>\n",
       "      <td>139320.500000</td>\n",
       "      <td>1.315642e+00</td>\n",
       "      <td>8.037239e-01</td>\n",
       "      <td>1.027196e+00</td>\n",
       "      <td>7.433413e-01</td>\n",
       "      <td>6.119264e-01</td>\n",
       "      <td>3.985649e-01</td>\n",
       "      <td>5.704361e-01</td>\n",
       "      <td>3.273459e-01</td>\n",
       "      <td>5.971390e-01</td>\n",
       "      <td>4.539234e-01</td>\n",
       "      <td>7.395934e-01</td>\n",
       "      <td>6.182380e-01</td>\n",
       "      <td>6.625050e-01</td>\n",
       "      <td>4.931498e-01</td>\n",
       "      <td>6.488208e-01</td>\n",
       "      <td>5.232963e-01</td>\n",
       "      <td>3.996750e-01</td>\n",
       "      <td>5.008067e-01</td>\n",
       "      <td>4.589494e-01</td>\n",
       "      <td>1.330408e-01</td>\n",
       "      <td>1.863772e-01</td>\n",
       "      <td>5.285536e-01</td>\n",
       "      <td>1.476421e-01</td>\n",
       "      <td>4.395266e-01</td>\n",
       "      <td>3.507156e-01</td>\n",
       "      <td>2.409522e-01</td>\n",
       "      <td>9.104512e-02</td>\n",
       "      <td>7.827995e-02</td>\n",
       "      <td>77.165000</td>\n",
       "      <td>0.000000</td>\n",
       "    </tr>\n",
       "    <tr>\n",
       "      <th>max</th>\n",
       "      <td>172792.000000</td>\n",
       "      <td>2.454930e+00</td>\n",
       "      <td>2.205773e+01</td>\n",
       "      <td>9.382558e+00</td>\n",
       "      <td>1.687534e+01</td>\n",
       "      <td>3.480167e+01</td>\n",
       "      <td>7.330163e+01</td>\n",
       "      <td>1.205895e+02</td>\n",
       "      <td>2.000721e+01</td>\n",
       "      <td>1.559499e+01</td>\n",
       "      <td>2.374514e+01</td>\n",
       "      <td>1.201891e+01</td>\n",
       "      <td>7.848392e+00</td>\n",
       "      <td>7.126883e+00</td>\n",
       "      <td>1.052677e+01</td>\n",
       "      <td>8.877742e+00</td>\n",
       "      <td>1.731511e+01</td>\n",
       "      <td>9.253526e+00</td>\n",
       "      <td>5.041069e+00</td>\n",
       "      <td>5.591971e+00</td>\n",
       "      <td>3.942090e+01</td>\n",
       "      <td>2.720284e+01</td>\n",
       "      <td>1.050309e+01</td>\n",
       "      <td>2.252841e+01</td>\n",
       "      <td>4.584549e+00</td>\n",
       "      <td>7.519589e+00</td>\n",
       "      <td>3.517346e+00</td>\n",
       "      <td>3.161220e+01</td>\n",
       "      <td>3.384781e+01</td>\n",
       "      <td>25691.160000</td>\n",
       "      <td>1.000000</td>\n",
       "    </tr>\n",
       "  </tbody>\n",
       "</table>\n",
       "</div>"
      ],
      "text/plain": [
       "                Time            V1            V2            V3            V4  \\\n",
       "count  284807.000000  2.848070e+05  2.848070e+05  2.848070e+05  2.848070e+05   \n",
       "mean    94813.859575  1.168375e-15  3.416908e-16 -1.379537e-15  2.074095e-15   \n",
       "std     47488.145955  1.958696e+00  1.651309e+00  1.516255e+00  1.415869e+00   \n",
       "min         0.000000 -5.640751e+01 -7.271573e+01 -4.832559e+01 -5.683171e+00   \n",
       "25%     54201.500000 -9.203734e-01 -5.985499e-01 -8.903648e-01 -8.486401e-01   \n",
       "50%     84692.000000  1.810880e-02  6.548556e-02  1.798463e-01 -1.984653e-02   \n",
       "75%    139320.500000  1.315642e+00  8.037239e-01  1.027196e+00  7.433413e-01   \n",
       "max    172792.000000  2.454930e+00  2.205773e+01  9.382558e+00  1.687534e+01   \n",
       "\n",
       "                 V5            V6            V7            V8            V9  \\\n",
       "count  2.848070e+05  2.848070e+05  2.848070e+05  2.848070e+05  2.848070e+05   \n",
       "mean   9.604066e-16  1.487313e-15 -5.556467e-16  1.213481e-16 -2.406331e-15   \n",
       "std    1.380247e+00  1.332271e+00  1.237094e+00  1.194353e+00  1.098632e+00   \n",
       "min   -1.137433e+02 -2.616051e+01 -4.355724e+01 -7.321672e+01 -1.343407e+01   \n",
       "25%   -6.915971e-01 -7.682956e-01 -5.540759e-01 -2.086297e-01 -6.430976e-01   \n",
       "50%   -5.433583e-02 -2.741871e-01  4.010308e-02  2.235804e-02 -5.142873e-02   \n",
       "75%    6.119264e-01  3.985649e-01  5.704361e-01  3.273459e-01  5.971390e-01   \n",
       "max    3.480167e+01  7.330163e+01  1.205895e+02  2.000721e+01  1.559499e+01   \n",
       "\n",
       "                V10           V11           V12           V13           V14  \\\n",
       "count  2.848070e+05  2.848070e+05  2.848070e+05  2.848070e+05  2.848070e+05   \n",
       "mean   2.239053e-15  1.673327e-15 -1.247012e-15  8.190001e-16  1.207294e-15   \n",
       "std    1.088850e+00  1.020713e+00  9.992014e-01  9.952742e-01  9.585956e-01   \n",
       "min   -2.458826e+01 -4.797473e+00 -1.868371e+01 -5.791881e+00 -1.921433e+01   \n",
       "25%   -5.354257e-01 -7.624942e-01 -4.055715e-01 -6.485393e-01 -4.255740e-01   \n",
       "50%   -9.291738e-02 -3.275735e-02  1.400326e-01 -1.356806e-02  5.060132e-02   \n",
       "75%    4.539234e-01  7.395934e-01  6.182380e-01  6.625050e-01  4.931498e-01   \n",
       "max    2.374514e+01  1.201891e+01  7.848392e+00  7.126883e+00  1.052677e+01   \n",
       "\n",
       "                V15           V16           V17           V18           V19  \\\n",
       "count  2.848070e+05  2.848070e+05  2.848070e+05  2.848070e+05  2.848070e+05   \n",
       "mean   4.887456e-15  1.437716e-15 -3.772171e-16  9.564149e-16  1.039917e-15   \n",
       "std    9.153160e-01  8.762529e-01  8.493371e-01  8.381762e-01  8.140405e-01   \n",
       "min   -4.498945e+00 -1.412985e+01 -2.516280e+01 -9.498746e+00 -7.213527e+00   \n",
       "25%   -5.828843e-01 -4.680368e-01 -4.837483e-01 -4.988498e-01 -4.562989e-01   \n",
       "50%    4.807155e-02  6.641332e-02 -6.567575e-02 -3.636312e-03  3.734823e-03   \n",
       "75%    6.488208e-01  5.232963e-01  3.996750e-01  5.008067e-01  4.589494e-01   \n",
       "max    8.877742e+00  1.731511e+01  9.253526e+00  5.041069e+00  5.591971e+00   \n",
       "\n",
       "                V20           V21           V22           V23           V24  \\\n",
       "count  2.848070e+05  2.848070e+05  2.848070e+05  2.848070e+05  2.848070e+05   \n",
       "mean   6.406204e-16  1.654067e-16 -3.568593e-16  2.578648e-16  4.473266e-15   \n",
       "std    7.709250e-01  7.345240e-01  7.257016e-01  6.244603e-01  6.056471e-01   \n",
       "min   -5.449772e+01 -3.483038e+01 -1.093314e+01 -4.480774e+01 -2.836627e+00   \n",
       "25%   -2.117214e-01 -2.283949e-01 -5.423504e-01 -1.618463e-01 -3.545861e-01   \n",
       "50%   -6.248109e-02 -2.945017e-02  6.781943e-03 -1.119293e-02  4.097606e-02   \n",
       "75%    1.330408e-01  1.863772e-01  5.285536e-01  1.476421e-01  4.395266e-01   \n",
       "max    3.942090e+01  2.720284e+01  1.050309e+01  2.252841e+01  4.584549e+00   \n",
       "\n",
       "                V25           V26           V27           V28         Amount  \\\n",
       "count  2.848070e+05  2.848070e+05  2.848070e+05  2.848070e+05  284807.000000   \n",
       "mean   5.340915e-16  1.683437e-15 -3.660091e-16 -1.227390e-16      88.349619   \n",
       "std    5.212781e-01  4.822270e-01  4.036325e-01  3.300833e-01     250.120109   \n",
       "min   -1.029540e+01 -2.604551e+00 -2.256568e+01 -1.543008e+01       0.000000   \n",
       "25%   -3.171451e-01 -3.269839e-01 -7.083953e-02 -5.295979e-02       5.600000   \n",
       "50%    1.659350e-02 -5.213911e-02  1.342146e-03  1.124383e-02      22.000000   \n",
       "75%    3.507156e-01  2.409522e-01  9.104512e-02  7.827995e-02      77.165000   \n",
       "max    7.519589e+00  3.517346e+00  3.161220e+01  3.384781e+01   25691.160000   \n",
       "\n",
       "               Class  \n",
       "count  284807.000000  \n",
       "mean        0.001727  \n",
       "std         0.041527  \n",
       "min         0.000000  \n",
       "25%         0.000000  \n",
       "50%         0.000000  \n",
       "75%         0.000000  \n",
       "max         1.000000  "
      ]
     },
     "execution_count": 5,
     "metadata": {},
     "output_type": "execute_result"
    }
   ],
   "source": [
    "data.describe()"
   ]
  },
  {
   "cell_type": "code",
   "execution_count": 104,
   "id": "b3167590",
   "metadata": {},
   "outputs": [
    {
     "name": "stdout",
     "output_type": "stream",
     "text": [
      "<class 'pandas.core.frame.DataFrame'>\n",
      "RangeIndex: 284807 entries, 0 to 284806\n",
      "Data columns (total 31 columns):\n",
      " #   Column  Non-Null Count   Dtype  \n",
      "---  ------  --------------   -----  \n",
      " 0   Time    284807 non-null  float64\n",
      " 1   V1      284807 non-null  float64\n",
      " 2   V2      284807 non-null  float64\n",
      " 3   V3      284807 non-null  float64\n",
      " 4   V4      284807 non-null  float64\n",
      " 5   V5      284807 non-null  float64\n",
      " 6   V6      284807 non-null  float64\n",
      " 7   V7      284807 non-null  float64\n",
      " 8   V8      284807 non-null  float64\n",
      " 9   V9      284807 non-null  float64\n",
      " 10  V10     284807 non-null  float64\n",
      " 11  V11     284807 non-null  float64\n",
      " 12  V12     284807 non-null  float64\n",
      " 13  V13     284807 non-null  float64\n",
      " 14  V14     284807 non-null  float64\n",
      " 15  V15     284807 non-null  float64\n",
      " 16  V16     284807 non-null  float64\n",
      " 17  V17     284807 non-null  float64\n",
      " 18  V18     284807 non-null  float64\n",
      " 19  V19     284807 non-null  float64\n",
      " 20  V20     284807 non-null  float64\n",
      " 21  V21     284807 non-null  float64\n",
      " 22  V22     284807 non-null  float64\n",
      " 23  V23     284807 non-null  float64\n",
      " 24  V24     284807 non-null  float64\n",
      " 25  V25     284807 non-null  float64\n",
      " 26  V26     284807 non-null  float64\n",
      " 27  V27     284807 non-null  float64\n",
      " 28  V28     284807 non-null  float64\n",
      " 29  Amount  284807 non-null  float64\n",
      " 30  Class   284807 non-null  int64  \n",
      "dtypes: float64(30), int64(1)\n",
      "memory usage: 67.4 MB\n"
     ]
    }
   ],
   "source": [
    "data.info()"
   ]
  },
  {
   "cell_type": "code",
   "execution_count": 6,
   "id": "9f2e78ee",
   "metadata": {},
   "outputs": [
    {
     "data": {
      "text/plain": [
       "array([0.00000e+00, 1.00000e+00, 2.00000e+00, ..., 1.72787e+05,\n",
       "       1.72788e+05, 1.72792e+05], shape=(124592,))"
      ]
     },
     "execution_count": 6,
     "metadata": {},
     "output_type": "execute_result"
    }
   ],
   "source": [
    "data['Time'].value_counts()\n",
    "data['Time'].unique()"
   ]
  },
  {
   "cell_type": "code",
   "execution_count": 46,
   "id": "59f8d466-2226-46f8-935b-d978f2df1bd2",
   "metadata": {},
   "outputs": [
    {
     "data": {
      "image/png": "[encoded data removed]",
      "text/plain": [
       "<Figure size 1400x1000 with 2 Axes>"
      ]
     },
     "metadata": {},
     "output_type": "display_data"
    }
   ],
   "source": [
    "plt.figure(figsize=(14,10))\n",
    "sns.heatmap(data.corr(), cmap=\"coolwarm\", linewidths=0.5)\n",
    "plt.title(\"Feature Correlation Heatmap\")\n",
    "plt.show()"
   ]
  },
  {
   "cell_type": "code",
   "execution_count": 42,
   "id": "35f342e9",
   "metadata": {},
   "outputs": [
    {
     "data": {
      "text/plain": [
       "Class\n",
       "0    284315\n",
       "1       492\n",
       "Name: count, dtype: int64"
      ]
     },
     "execution_count": 42,
     "metadata": {},
     "output_type": "execute_result"
    }
   ],
   "source": [
    "data['Class'].value_counts()"
   ]
  },
  {
   "cell_type": "code",
   "execution_count": 26,
   "id": "d67f60cd-4719-4260-8dc7-8c81d90e68ba",
   "metadata": {},
   "outputs": [
    {
     "data": {
      "image/png": "[encoded data removed]",
      "text/plain": [
       "<Figure size 700x650 with 1 Axes>"
      ]
     },
     "metadata": {},
     "output_type": "display_data"
    }
   ],
   "source": [
    "plt.figure(figsize = (7, 6.5))\n",
    "ax = sns.countplot(\n",
    "    data = data,\n",
    "    x = 'Class',\n",
    "    hue = 'Class',\n",
    "    palette = 'pastel'\n",
    ")\n",
    "\n",
    "for p in ax.patches:\n",
    "    count = int(p.get_height())\n",
    "    ax.annotate(f'{count:,}',                   \n",
    "                (p.get_x() + p.get_width() / 2., count),\n",
    "                ha='center', va='bottom',       \n",
    "                fontsize=12, color='black',     \n",
    "                xytext=(0, 5),                  \n",
    "                textcoords='offset points')     \n",
    "plt.title('Legit vs Fraud Transactions')\n",
    "plt.xlabel('Class(0 = No Fraud, 1 = Fraud)')\n",
    "plt.ylabel('Total Number of Incidents')\n",
    "plt.tight_layout()\n",
    "plt.show()"
   ]
  },
  {
   "cell_type": "code",
   "execution_count": null,
   "id": "71e745a8-3e00-48cd-87e6-6eb4f9ced9a0",
   "metadata": {},
   "outputs": [],
   "source": [
    "size = data.shape[0]\n",
    "legit = data['Class'].value_counts()[0]\n",
    "fraud = data['Class'].value_counts()[1]"
   ]
  },
  {
   "cell_type": "code",
   "execution_count": 123,
   "id": "823d03e4-a703-4078-a190-9d867b0a7847",
   "metadata": {},
   "outputs": [
    {
     "name": "stdout",
     "output_type": "stream",
     "text": [
      "Percentage of no fraud cases: 0.9983%\n",
      "Percentage of fraud cases: 0.0017%\n"
     ]
    }
   ],
   "source": [
    "print(f'Percentage of no fraud cases: {round(legit/size,4)}%')\n",
    "print(f'Percentage of fraud cases: {round(fraud/size,4)}%')"
   ]
  },
  {
   "cell_type": "code",
   "execution_count": 27,
   "id": "acd60854",
   "metadata": {},
   "outputs": [
    {
     "data": {
      "text/plain": [
       "np.int64(1081)"
      ]
     },
     "execution_count": 27,
     "metadata": {},
     "output_type": "execute_result"
    }
   ],
   "source": [
    "data.duplicated().sum()"
   ]
  },
  {
   "cell_type": "code",
   "execution_count": 28,
   "id": "33044ec9-c2d9-4dc4-bd91-f8db09e5fe6f",
   "metadata": {},
   "outputs": [
    {
     "data": {
      "text/plain": [
       "(283726, 31)"
      ]
     },
     "execution_count": 28,
     "metadata": {},
     "output_type": "execute_result"
    }
   ],
   "source": [
    "data = data.drop_duplicates()\n",
    "data.shape"
   ]
  },
  {
   "cell_type": "code",
   "execution_count": 29,
   "id": "d6e9f2d2",
   "metadata": {},
   "outputs": [
    {
     "data": {
      "text/plain": [
       "Time      0\n",
       "V1        0\n",
       "V2        0\n",
       "V3        0\n",
       "V4        0\n",
       "V5        0\n",
       "V6        0\n",
       "V7        0\n",
       "V8        0\n",
       "V9        0\n",
       "V10       0\n",
       "V11       0\n",
       "V12       0\n",
       "V13       0\n",
       "V14       0\n",
       "V15       0\n",
       "V16       0\n",
       "V17       0\n",
       "V18       0\n",
       "V19       0\n",
       "V20       0\n",
       "V21       0\n",
       "V22       0\n",
       "V23       0\n",
       "V24       0\n",
       "V25       0\n",
       "V26       0\n",
       "V27       0\n",
       "V28       0\n",
       "Amount    0\n",
       "Class     0\n",
       "dtype: int64"
      ]
     },
     "execution_count": 29,
     "metadata": {},
     "output_type": "execute_result"
    }
   ],
   "source": [
    "data.isna().sum()"
   ]
  },
  {
   "cell_type": "code",
   "execution_count": 33,
   "id": "6cc15e2f",
   "metadata": {},
   "outputs": [],
   "source": [
    "X = data.drop(columns = 'Class')\n",
    "y = data['Class']"
   ]
  },
  {
   "cell_type": "code",
   "execution_count": 34,
   "id": "3a6aa4e2-6174-4e37-9bd3-f26c30bab93b",
   "metadata": {},
   "outputs": [],
   "source": [
    "X_train, X_test, y_train, y_test = train_test_split(X, y, test_size = 0.25, stratify = y, random_state = 42)"
   ]
  },
  {
   "cell_type": "markdown",
   "id": "b187a3ba-d0d1-486c-a1ea-dd9e1705e80b",
   "metadata": {},
   "source": [
    "### Preprocessing Demonstration (Manual Scaling + SMOTE)\n",
    "\n",
    "The following code (commented out) demonstrates how to apply `StandardScaler` and `SMOTE` manually, without using a pipeline.\n",
    "\n",
    "This was included to show an understanding of the traditional approach to preprocessing:\n",
    "- First, scaling the features\n",
    "- Then resampling the training data using SMOTE\n",
    "\n",
    "Later in this notebook, you'll see the steps implemented more efficiently using a **pipeline**, which keeps preprocessing encapsulated and reproducible.\n",
    "\n",
    "> Note: This code is not executed here to avoid redundancy — it's purely instructional.\n"
   ]
  },
  {
   "cell_type": "code",
   "execution_count": 15,
   "id": "a940017a-44ee-4549-8058-32fc237df720",
   "metadata": {},
   "outputs": [],
   "source": [
    "# scaler = StandardScaler()\n",
    "# X_train_scaled = scaler.fit_transform(X_train)\n",
    "# X_test_scaled = scaler.transform(X_test)\n",
    "# X_train_scaled_data = pd.DataFrame(data = X_train_scaled, columns = X.columns)\n",
    "# X_test_scaled_data = pd.DataFrame(data = X_test_scaled, columns = X.columns)\n",
    "# print(f'Train data size: {X_train_scaled_data.shape}')\n",
    "# print(f'Test data size: {X_test_scaled_data.shape}')\n"
   ]
  },
  {
   "cell_type": "markdown",
   "id": "97c4c9f1-a71a-40cb-8536-453a56ad7c83",
   "metadata": {},
   "source": [
    "## 3. Handling Class Imbalance"
   ]
  },
  {
   "cell_type": "code",
   "execution_count": 16,
   "id": "d575ce70-01a7-47d6-8f0b-f41cb249dd8e",
   "metadata": {},
   "outputs": [],
   "source": [
    "# smote = SMOTE(random_state = 42)\n",
    "# X_resampled, y_resampled = smote.fit_resample(X_train_scaled_data, y_train)\n",
    "# X_resampled.shape"
   ]
  },
  {
   "cell_type": "markdown",
   "id": "e939fa76-8375-4b15-8c36-12d213927165",
   "metadata": {},
   "source": [
    "### Model Serialization with `pickle`\n",
    "\n",
    "In this project, I used the `pickle` library to **save and reload trained machine learning models**.\n",
    "\n",
    "#### Why?\n",
    "- **Efficiency**: Once a model is trained, we don’t need to retrain it every time we want to make predictions.\n",
    "- **Portability**: Saved models can be easily shared or deployed into applications (e.g., web apps, APIs).\n",
    "- **Reusability**: You can reload the model later to evaluate, compare, or use in a production environment.\n",
    "\n",
    "#### What was pickled?\n",
    "Each trained model (Random Forest, SVM, KNN, XGBoost) was saved to a `.pkl` file using `pickle.dump()` and later reloaded with `pickle.load()` for prediction and evaluation.\n",
    "\n",
    "> This step reflects best practices in ML workflows, especially in real-world settings where models are deployed or integrated with other systems.\n"
   ]
  },
  {
   "cell_type": "code",
   "execution_count": 32,
   "id": "9fe27aca-7468-485b-8670-8ac16a576bc9",
   "metadata": {},
   "outputs": [],
   "source": [
    "import pickle"
   ]
  },
  {
   "cell_type": "markdown",
   "id": "14a15488-1585-45cc-a705-a2ef9ea3dc4f",
   "metadata": {},
   "source": [
    "## 4. Model Training"
   ]
  },
  {
   "cell_type": "markdown",
   "id": "e07c957d-d194-43f8-bec9-3aeaa30c0691",
   "metadata": {},
   "source": [
    "### 1. Random Forest Model"
   ]
  },
  {
   "cell_type": "code",
   "execution_count": 37,
   "id": "786bb44b-e0ae-4882-b3b1-80cf62eb0ed2",
   "metadata": {},
   "outputs": [
    {
     "name": "stdout",
     "output_type": "stream",
     "text": [
      "CPU times: total: 6min 58s\n",
      "Wall time: 7min 8s\n"
     ]
    }
   ],
   "source": [
    "%%time\n",
    "pipelined_random_forest = imbpipeline(\n",
    "    [('scaler', StandardScaler()),\n",
    "    ('smote', SMOTE(k_neighbors = 5, random_state = 42)),\n",
    "    ('random_forest', RandomForestClassifier(n_estimators = 50, random_state = 42))\n",
    "    ]\n",
    ")\n",
    "rf = pipelined_random_forest.fit(X_train, y_train)\n",
    "\n",
    "with open('rf_model.pkl', 'wb') as rf_file:\n",
    "    pickle.dump(rf, rf_file)\n",
    "\n",
    "\n",
    "with open('rf_model.pkl', 'rb') as rf_file:\n",
    "    load_rf_model = pickle.load(rf_file)"
   ]
  },
  {
   "cell_type": "code",
   "execution_count": 39,
   "id": "08acce71-634a-4ae7-a584-aeeafddd5cd1",
   "metadata": {},
   "outputs": [],
   "source": [
    "y_rf_pred = load_rf_model.predict(X_test)"
   ]
  },
  {
   "cell_type": "markdown",
   "id": "9da7d110-46bc-4658-b177-40b69ff77587",
   "metadata": {},
   "source": [
    "### 2. Support Vector Machine Model"
   ]
  },
  {
   "cell_type": "code",
   "execution_count": 72,
   "id": "8384d563-78d4-471a-9e11-b9a97a4c1f5b",
   "metadata": {},
   "outputs": [
    {
     "name": "stdout",
     "output_type": "stream",
     "text": [
      "CPU times: total: 0 ns\n",
      "Wall time: 23.2 ms\n"
     ]
    }
   ],
   "source": [
    "%%time\n",
    "# pipelined_svm = imbpipeline(\n",
    "#     [\n",
    "#         ('scaler', StandardScaler()),\n",
    "#         ('smote', SMOTE(k_neighbors = 5, random_state = 42)),\n",
    "#         ('pca', PCA(n_components = 0.95)),\n",
    "#         ('svm', SVC(kernel = 'rbf', C = 1.0, random_state = 42))\n",
    "#     ]\n",
    "# )\n",
    "# svm = pipelined_svm.fit(X_train, y_train)\n",
    "\n",
    "with open('svm_model.pkl', 'wb') as svm_file:\n",
    "    pickle.dump(svm, svm_file)\n",
    "\n",
    "with open('svm_model.pkl', 'rb') as svm_file:\n",
    "    load_svm_model = pickle.load(svm_file)"
   ]
  },
  {
   "cell_type": "code",
   "execution_count": 73,
   "id": "5fee5537-3679-45b8-90c2-6233132c70e7",
   "metadata": {},
   "outputs": [],
   "source": [
    "y_svm_pred = load_svm_model.predict(X_test)"
   ]
  },
  {
   "cell_type": "markdown",
   "id": "6ead599f-eff6-4a80-81fd-8913a2c08627",
   "metadata": {},
   "source": [
    "### 3. K-Nearest Neighbors Model"
   ]
  },
  {
   "cell_type": "code",
   "execution_count": 80,
   "id": "a6113840-1eee-46eb-ab54-1201d53fba6d",
   "metadata": {},
   "outputs": [
    {
     "name": "stdout",
     "output_type": "stream",
     "text": [
      "CPU times: total: 203 ms\n",
      "Wall time: 491 ms\n"
     ]
    }
   ],
   "source": [
    "%%time\n",
    "# pipelined_knn = imbpipeline(\n",
    "#     [\n",
    "#         ('scaler', StandardScaler()),\n",
    "#         ('smote', SMOTE(k_neighbors = 5, random_state = 42)),\n",
    "#         ('pca', PCA(n_components = 0.95)),\n",
    "#         ('knn', KNeighborsClassifier(n_neighbors = 5))\n",
    "#     ]\n",
    "# )\n",
    "# knn = pipelined_knn.fit(X_train, y_train)\n",
    "\n",
    "with open ('knn_model.pkl', 'wb') as knn_file:\n",
    "    pickle.dump(knn, knn_file)\n",
    "\n",
    "with open('knn_model.pkl', 'rb') as knn_file:\n",
    "    load_knn_model = pickle.load(knn_file)"
   ]
  },
  {
   "cell_type": "code",
   "execution_count": 81,
   "id": "8a8a3676-f8da-41b6-b3b5-dcab2f191dc7",
   "metadata": {},
   "outputs": [],
   "source": [
    "y_knn_pred = load_knn_model.predict(X_test)"
   ]
  },
  {
   "cell_type": "markdown",
   "id": "64f57e84-695a-4c55-980c-ae5b28da1c45",
   "metadata": {},
   "source": [
    "### 4. XGBoost Model"
   ]
  },
  {
   "cell_type": "code",
   "execution_count": 83,
   "id": "0921d75d-f519-4c7c-bcee-c37aca372540",
   "metadata": {},
   "outputs": [
    {
     "name": "stdout",
     "output_type": "stream",
     "text": [
      "CPU times: total: 188 ms\n",
      "Wall time: 102 ms\n"
     ]
    }
   ],
   "source": [
    "%%time\n",
    "# pipelined_xgb = imbpipeline(\n",
    "#     [\n",
    "#         ('scaler', StandardScaler()),\n",
    "#         ('smote', SMOTE(k_neighbors = 5, random_state = 42)),\n",
    "#         ('pca', PCA(n_components = 0.95)),\n",
    "#         ('xgb', XGBClassifier(n_estimators = 50, learning_rate = 0.1, random_state = 42))\n",
    "#     ]\n",
    "# )\n",
    "# xgb = pipelined_xgb.fit(X_train, y_train)\n",
    "\n",
    "with open('xgb_model.pkl', 'wb') as xgb_file:\n",
    "    pickle.dump(xgb, xgb_file)\n",
    "\n",
    "with open('xgb_model.pkl', 'rb') as xgb_file:\n",
    "    load_xgb_model = pickle.load(xgb_file)\n"
   ]
  },
  {
   "cell_type": "code",
   "execution_count": 84,
   "id": "77bdd2df-959b-4b33-bbb3-5d73bd9b2594",
   "metadata": {},
   "outputs": [
    {
     "name": "stdout",
     "output_type": "stream",
     "text": [
      "CPU times: total: 266 ms\n",
      "Wall time: 95.7 ms\n"
     ]
    }
   ],
   "source": [
    "%%time\n",
    "y_xgb_pred = load_xgb_model.predict(X_test)"
   ]
  },
  {
   "cell_type": "markdown",
   "id": "c5f88534-6ced-4971-aa92-5d0bba4dc887",
   "metadata": {},
   "source": [
    "## 5. Model Evaluation"
   ]
  },
  {
   "cell_type": "code",
   "execution_count": 107,
   "id": "c408e264-33eb-4982-a6bd-8f6eccf7d9d0",
   "metadata": {},
   "outputs": [
    {
     "data": {
      "text/html": [
       "<div>\n",
       "<style scoped>\n",
       "    .dataframe tbody tr th:only-of-type {\n",
       "        vertical-align: middle;\n",
       "    }\n",
       "\n",
       "    .dataframe tbody tr th {\n",
       "        vertical-align: top;\n",
       "    }\n",
       "\n",
       "    .dataframe thead th {\n",
       "        text-align: right;\n",
       "    }\n",
       "</style>\n",
       "<table border=\"1\" class=\"dataframe\">\n",
       "  <thead>\n",
       "    <tr style=\"text-align: right;\">\n",
       "      <th></th>\n",
       "      <th>Model</th>\n",
       "      <th>Accuracy</th>\n",
       "      <th>Precision</th>\n",
       "      <th>Recall</th>\n",
       "      <th>F1</th>\n",
       "    </tr>\n",
       "  </thead>\n",
       "  <tbody>\n",
       "    <tr>\n",
       "      <th>0</th>\n",
       "      <td>RANDOM_FOREST</td>\n",
       "      <td>0.999</td>\n",
       "      <td>0.883</td>\n",
       "      <td>0.797</td>\n",
       "      <td>0.838</td>\n",
       "    </tr>\n",
       "    <tr>\n",
       "      <th>1</th>\n",
       "      <td>SVM</td>\n",
       "      <td>0.980</td>\n",
       "      <td>0.060</td>\n",
       "      <td>0.850</td>\n",
       "      <td>0.120</td>\n",
       "    </tr>\n",
       "    <tr>\n",
       "      <th>2</th>\n",
       "      <td>KNN</td>\n",
       "      <td>1.000</td>\n",
       "      <td>0.360</td>\n",
       "      <td>0.960</td>\n",
       "      <td>0.520</td>\n",
       "    </tr>\n",
       "    <tr>\n",
       "      <th>3</th>\n",
       "      <td>XGB</td>\n",
       "      <td>0.990</td>\n",
       "      <td>0.120</td>\n",
       "      <td>0.960</td>\n",
       "      <td>0.220</td>\n",
       "    </tr>\n",
       "  </tbody>\n",
       "</table>\n",
       "</div>"
      ],
      "text/plain": [
       "           Model  Accuracy  Precision  Recall     F1\n",
       "0  RANDOM_FOREST     0.999      0.883   0.797  0.838\n",
       "1            SVM     0.980      0.060   0.850  0.120\n",
       "2            KNN     1.000      0.360   0.960  0.520\n",
       "3            XGB     0.990      0.120   0.960  0.220"
      ]
     },
     "execution_count": 107,
     "metadata": {},
     "output_type": "execute_result"
    }
   ],
   "source": [
    "model_metrics = [\n",
    "    (\n",
    "    'RANDOM_FOREST',\n",
    "     round(accuracy_score(y_test, y_rf_pred), 3),\n",
    "     round(precision_score(y_test, y_rf_pred), 3),\n",
    "     round(recall_score(y_test, y_rf_pred), 3),\n",
    "     round(f1_score(y_test, y_rf_pred), 3)\n",
    "    ),\n",
    "    (\n",
    "    'SVM',\n",
    "    round(accuracy_score(y_test, y_svm_pred), 2),\n",
    "    round(precision_score(y_test, y_svm_pred), 2),\n",
    "    round(recall_score(y_test, y_svm_pred), 2),\n",
    "    round(f1_score(y_test, y_svm_pred), 2)\n",
    "    ),\n",
    "    (\n",
    "    'KNN',\n",
    "    round(accuracy_score(y_test, y_knn_pred), 2),\n",
    "    round(precision_score(y_test, y_knn_pred), 2),\n",
    "    round(recall_score(y_test, y_knn_pred), 2),\n",
    "    round(f1_score(y_test, y_knn_pred), 2)\n",
    "    ),\n",
    "    (\n",
    "    'XGB',\n",
    "    round(accuracy_score(y_test, y_xgb_pred),2),\n",
    "    round(precision_score(y_test, y_xgb_pred),2),\n",
    "    round(recall_score(y_test, y_xgb_pred),2),\n",
    "    round(f1_score(y_test, y_xgb_pred),2)\n",
    "    )\n",
    "]\n",
    "\n",
    "model_results = pd.DataFrame(data = model_metrics, columns = ['Model', 'Accuracy', 'Precision', 'Recall', 'F1'])\n",
    "model_results"
   ]
  },
  {
   "cell_type": "markdown",
   "id": "68bffba3-6b02-414e-9497-2af132335be6",
   "metadata": {},
   "source": [
    "### Visualizing Model Metrics with `pd.melt()`\n",
    "\n",
    "To create a more effective and readable barplot comparing the four evaluation metrics (**Accuracy, Precision, Recall, F1-Score**) across different models, I used `pandas.melt()` to restructure the performance DataFrame into a long format.\n",
    "\n",
    "#### Why `pd.melt()`?\n",
    "- **Original format**: Each model was a row, and each metric was a separate column (wide format).\n",
    "- **Barplots work better** with long format data — where we have three columns:\n",
    "  - Model name\n",
    "  - Metric name\n",
    "  - Metric value\n",
    "\n",
    "#### Benefits:\n",
    "- Simplifies plotting with **Seaborn’s `barplot` or `catplot`**\n",
    "- Makes it easier to group and color bars by metric or model\n",
    "- Produces **clean, grouped visual comparisons** of model performance\n",
    "\n",
    "> This transformation is a best practice in data visualization when dealing with multi-metric comparisons.\n"
   ]
  },
  {
   "cell_type": "code",
   "execution_count": 196,
   "id": "e2888aac-73c7-4405-80d7-58862178de68",
   "metadata": {},
   "outputs": [
    {
     "data": {
      "image/png": "[encoded data removed]",
      "text/plain": [
       "<Figure size 1000x600 with 1 Axes>"
      ]
     },
     "metadata": {},
     "output_type": "display_data"
    }
   ],
   "source": [
    "\n",
    "df_long = pd.melt(model_results, \n",
    "                  id_vars='Model', \n",
    "                  value_vars=['Accuracy', 'Precision', 'Recall', 'F1'],\n",
    "                  var_name='Metric', \n",
    "                  value_name='Score')\n",
    "\n",
    "\n",
    "plt.figure(figsize=(10, 6))\n",
    "sns.barplot(data=df_long, x='Metric', y='Score', hue='Model')\n",
    "\n",
    "plt.title(\"Model Comparison by Metric\")\n",
    "plt.ylim(0, 1.1)\n",
    "plt.ylabel(\"Score\")\n",
    "plt.xlabel(\"Metric\")\n",
    "plt.legend(title='Model')\n",
    "plt.tight_layout()\n",
    "plt.show()"
   ]
  },
  {
   "cell_type": "code",
   "execution_count": null,
   "id": "bbbb8927-9dd8-4917-9612-7ba9928e3a1f",
   "metadata": {},
   "outputs": [],
   "source": [
    "%%time\n",
    "# params = {\n",
    "#     'random_forest__n_estimators': [50, 100],\n",
    "#     'random_forest__max_depth': [None, 5, 10],\n",
    "#     'random_forest__max_features': ['sqrt', 2,3,4,5]\n",
    "# }\n",
    "# scoring = ['accuracy', 'precision', 'recall', 'f1']\n",
    "\n",
    "# rf_GridSearch = GridSearchCV(\n",
    "#     pipelined_random_forest,\n",
    "#     params,\n",
    "#     cv = 3,\n",
    "#     scoring = scoring,\n",
    "#     refit = 'recall',\n",
    "#     n_jobs = -1\n",
    "# )\n",
    "# rf_GridSearch.fit(X_train, y_train) \n",
    "# rf_GridSearch.best_params_\n",
    "with open('rf_GridSearch.pkl', 'wb') as rf_grid_file:\n",
    "    pickle.dump(rf_GridSearch, rf_grid_file)\n",
    "\n",
    "with open('rf_GridSearch.pkl', 'rb') as rf_grid_file:\n",
    "    rf_grid_model = pickle.load(rf_grid_file)"
   ]
  },
  {
   "cell_type": "code",
   "execution_count": null,
   "id": "798508fe-dc20-4b26-b63e-4c4a5f0206d4",
   "metadata": {},
   "outputs": [],
   "source": [
    "rf_grid_pred = rf_grid_model.predict(X_test)"
   ]
  },
  {
   "cell_type": "markdown",
   "id": "e20c0842-1dc8-4a19-9675-77289d73ae2d",
   "metadata": {},
   "source": [
    "### Hyperparameter Tuning with `GridSearchCV`\n",
    "\n",
    "After comparing all models, I selected the best-performing one based on recall and F1-score — which are especially important for fraud detection, where missing a fraud is far more costly than a false alarm.\n",
    "\n",
    "To further improve this model’s performance, I applied **`GridSearchCV`** for hyperparameter tuning.\n",
    "\n",
    "#### Why `GridSearchCV`?\n",
    "- It systematically tests different combinations of hyperparameters (like `n_estimators`, `max_depth`, `max_features`) to find the **optimal configuration** for the model.\n",
    "- It uses **cross-validation** to ensure the model generalizes well and doesn't just overfit the training data.\n",
    "\n",
    "#### Benefits of GridSearchCV:\n",
    "- **Automates** the tuning process\n",
    "- **Evaluates** models on multiple metrics (in this case: accuracy, precision, recall, F1)\n",
    "- **Refits** the model using the best parameters found (e.g., maximizing recall for fraud detection)\n",
    "- Produces a model that is both **high-performing and robust**\n",
    "\n",
    "> This step is crucial in a production pipeline to ensure the final model is not just “good enough” — but the **best possible version** of itself given the data.\n"
   ]
  },
  {
   "cell_type": "code",
   "execution_count": 45,
   "id": "5083f49b-def3-494e-b176-569d628900f5",
   "metadata": {},
   "outputs": [
    {
     "data": {
      "text/plain": [
       "<Figure size 1000x1000 with 0 Axes>"
      ]
     },
     "metadata": {},
     "output_type": "display_data"
    },
    {
     "data": {
      "image/png": "[encoded data removed]",
      "text/plain": [
       "<Figure size 640x480 with 2 Axes>"
      ]
     },
     "metadata": {},
     "output_type": "display_data"
    }
   ],
   "source": [
    "matrix = confusion_matrix(y_test, y_rf_pred, labels = load_rf_model.classes_)\n",
    "disp = ConfusionMatrixDisplay(matrix, display_labels = load_rf_model.classes_)\n",
    "plt.figure(figsize = (10, 10))\n",
    "disp.plot()\n",
    "plt.title(\"Confusion Matrix – Random Forest Model (Fraud Detection)\", fontsize=14)\n",
    "plt.show()"
   ]
  },
  {
   "cell_type": "markdown",
   "id": "caf4391f-9de9-42ed-8de8-3a59674b474a",
   "metadata": {},
   "source": [
    "## Final Thoughts\n",
    "\n",
    "In this project, I worked on detecting credit card fraud using machine learning. This was a challenging task because the number of fraud cases was very small compared to normal transactions.\n",
    "\n",
    "- The **Random Forest** model performed the best. It gave a good balance between **precision** (how many predicted frauds were actually fraud) and **recall** (how many actual frauds were detected), with an F1-score of **0.84**.  \n",
    "- **K-Nearest Neighbors (KNN)** found almost all frauds (**recall = 0.96**), but it also predicted too many false frauds (**low precision**).  \n",
    "- **SVM** and **XGBoost** didn't perform as well and struggled with the imbalance in the data.\n",
    "\n",
    "To handle the **class imbalance**, I used **SMOTE**, a technique that creates synthetic fraud examples. This helped improve model performance, especially in finding more fraud cases.\n",
    "\n",
    "### What Could Be Improved\n",
    "- Try more model settings (hyperparameter tuning) or test other models like **LightGBM** or **CatBoost**.\n",
    "- Do more **feature engineering** to improve the model’s understanding of the data.\n",
    "- Adjust prediction thresholds to reduce false alarms.\n",
    "- Try **ensemble methods** like voting or stacking to combine model strengths.\n",
    "\n",
    "### Main Takeaway\n",
    "With the right steps — such as preprocessing, balancing the data, and model selection — it’s possible to build an effective fraud detection system. Still, no model is perfect. It's important to balance **catching frauds** and **avoiding false alerts** to make it useful in real-life situations.\n"
   ]
  },
  {
   "cell_type": "code",
   "execution_count": null,
   "id": "9ac86e39-215c-4ce0-810e-af777fc39850",
   "metadata": {},
   "outputs": [],
   "source": []
  }
 ],
 "metadata": {
  "kernelspec": {
   "display_name": "Python [conda env:base] *",
   "language": "python",
   "name": "conda-base-py"
  },
  "language_info": {
   "codemirror_mode": {
    "name": "ipython",
    "version": 3
   },
   "file_extension": ".py",
   "mimetype": "text/x-python",
   "name": "python",
   "nbconvert_exporter": "python",
   "pygments_lexer": "ipython3",
   "version": "3.11.5"
  }
 },
 "nbformat": 4,
 "nbformat_minor": 5
}
